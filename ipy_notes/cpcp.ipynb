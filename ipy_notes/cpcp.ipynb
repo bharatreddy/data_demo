{
 "cells": [
  {
   "cell_type": "code",
   "execution_count": 36,
   "metadata": {},
   "outputs": [],
   "source": [
    "import pandas\n",
    "import datetime\n",
    "import glob\n",
    "import bz2\n",
    "import time"
   ]
  },
  {
   "cell_type": "code",
   "execution_count": 38,
   "metadata": {},
   "outputs": [],
   "source": [
    "srchDir = \"/sd-data/2015/mappot_ascii/north/\"\n",
    "srchFilePtrn = \"2015010*.bz2\"\n",
    "cpcpSrchString = \"> Potential:\"\n",
    "dtSrchString = \"d \""
   ]
  },
  {
   "cell_type": "code",
   "execution_count": 43,
   "metadata": {},
   "outputs": [],
   "source": [
    "def get_cpcp():\n",
    "    # Loop over the files and collect datetime/cpcp info\n",
    "    # for each 2 minute time interval!\n",
    "    # arrays to store the data\n",
    "    dtList = []\n",
    "    cpcpList = []\n",
    "    for _fName in glob.glob(srchDir + srchFilePtrn):\n",
    "        # open the file\n",
    "        print \"working with---->\", _fName\n",
    "        _file = bz2.BZ2File(_fName)\n",
    "        for _line in _file:\n",
    "            if _line.startswith(dtSrchString):\n",
    "                dtStr = _line.split(\"d \")[1].strip(\"\\n\")\n",
    "                dtObj = datetime.datetime.strptime(dtStr,\"%Y-%m-%d/%H:%M:%S\")\n",
    "                dtList.append( dtObj )\n",
    "            if cpcpSrchString in _line:\n",
    "                cpStr = _line.split(\"Drop=\")[1]\n",
    "                cpVal = cpStr.split(\" kV\")\n",
    "                cpcpList.append( int(cpVal[0]) )\n",
    "    return (dtList, cpcpList)"
   ]
  },
  {
   "cell_type": "code",
   "execution_count": 44,
   "metadata": {},
   "outputs": [
    {
     "name": "stderr",
     "output_type": "stream",
     "text": [
      "/usr/local/lib/python2.7/dist-packages/scipy/linalg/basic.py:17: RuntimeWarning: numpy.dtype size changed, may indicate binary incompatibility. Expected 96, got 88\n",
      "  from ._solve_toeplitz import levinson\n",
      "/usr/local/lib/python2.7/dist-packages/scipy/linalg/__init__.py:191: RuntimeWarning: numpy.dtype size changed, may indicate binary incompatibility. Expected 96, got 88\n",
      "  from ._decomp_update import *\n"
     ]
    },
    {
     "name": "stdout",
     "output_type": "stream",
     "text": [
      "76.399736\n"
     ]
    }
   ],
   "source": [
    "s1 = time.clock()\n",
    "(dtList, cpcpList) = get_cpcp()\n",
    "print time.clock() - s1"
   ]
  },
  {
   "cell_type": "code",
   "execution_count": 47,
   "metadata": {},
   "outputs": [
    {
     "data": {
      "text/plain": [
       "0.04401397705078125"
      ]
     },
     "execution_count": 47,
     "metadata": {},
     "output_type": "execute_result"
    }
   ],
   "source": [
    "cpcpDF = pandas.DataFrame({\n",
    "    \"date\" : dtList,\n",
    "    \"cpcp\" : cpcpList\n",
    "    }\n",
    "    )\n",
    "cpcpDF.memory_usage(deep=True).sum()/(1024.**2)"
   ]
  },
  {
   "cell_type": "code",
   "execution_count": 51,
   "metadata": {},
   "outputs": [],
   "source": [
    "cpcpDF.to_csv(\"../data/test.csv\", index=False, columns=[\"date\", \"cpcp\"])\n",
    "cpcpDF.to_feather(\"../data/test.feather\")"
   ]
  },
  {
   "cell_type": "code",
   "execution_count": null,
   "metadata": {},
   "outputs": [],
   "source": []
  }
 ],
 "metadata": {
  "kernelspec": {
   "display_name": "Python 2",
   "language": "python",
   "name": "python2"
  },
  "language_info": {
   "codemirror_mode": {
    "name": "ipython",
    "version": 2
   },
   "file_extension": ".py",
   "mimetype": "text/x-python",
   "name": "python",
   "nbconvert_exporter": "python",
   "pygments_lexer": "ipython2",
   "version": "2.7.6"
  }
 },
 "nbformat": 4,
 "nbformat_minor": 2
}
